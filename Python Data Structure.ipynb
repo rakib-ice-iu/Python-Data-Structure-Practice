{
 "cells": [
  {
   "cell_type": "markdown",
   "id": "168c59bd",
   "metadata": {},
   "source": [
    "Basic Operation of LIst"
   ]
  },
  {
   "cell_type": "code",
   "execution_count": 16,
   "id": "6603a692",
   "metadata": {},
   "outputs": [
    {
     "name": "stdout",
     "output_type": "stream",
     "text": [
      "['abul', 'babul', 'cabul', 'dabul']\n",
      "<class 'list'>\n"
     ]
    }
   ],
   "source": [
    "# Creating list\n",
    "\n",
    "name = ['abul', 'babul', 'cabul', 'dabul']\n",
    "print(name)\n",
    "print(type(name))"
   ]
  },
  {
   "cell_type": "code",
   "execution_count": 3,
   "id": "8f808eaf",
   "metadata": {},
   "outputs": [
    {
     "name": "stdout",
     "output_type": "stream",
     "text": [
      "[111, 2222, 3333, 4444]\n"
     ]
    }
   ],
   "source": [
    "contact = [111, 2222, 3333, 4444]\n",
    "print(contact)"
   ]
  },
  {
   "cell_type": "code",
   "execution_count": 17,
   "id": "52876938",
   "metadata": {},
   "outputs": [
    {
     "name": "stdout",
     "output_type": "stream",
     "text": [
      "[['abul', 'babul', 'cabul', 'dabul'], [4444, 3333, 2222, 111]]\n",
      "<class 'list'>\n"
     ]
    }
   ],
   "source": [
    "# Make a new list adding two list\n",
    "\n",
    "contact_name = [name, contact]\n",
    "print(contact_name)\n",
    "print(type(contact_name))"
   ]
  },
  {
   "cell_type": "code",
   "execution_count": 11,
   "id": "0380e2bc",
   "metadata": {},
   "outputs": [
    {
     "name": "stdout",
     "output_type": "stream",
     "text": [
      "['abul', 'babul', 'cabul', 'dabul']\n",
      "[111, 2222, 3333, 4444]\n",
      "abul\n",
      "111\n",
      "Name : abul Contact Number: 111\n"
     ]
    }
   ],
   "source": [
    "print(contact_name[0])\n",
    "print(contact_name[1])\n",
    "print(contact_name[0][0])\n",
    "print(contact_name[1][0])\n",
    "print(\"Name :\",contact_name[0][0], \"Contact Number:\",contact_name[1][0])"
   ]
  },
  {
   "cell_type": "code",
   "execution_count": 13,
   "id": "b87d0411",
   "metadata": {},
   "outputs": [
    {
     "name": "stdout",
     "output_type": "stream",
     "text": [
      "2\n",
      "4\n",
      "4\n"
     ]
    }
   ],
   "source": [
    "# length of strings\n",
    "\n",
    "print(len(contact_name))\n",
    "print(len(name))\n",
    "print(len(contact))\n",
    "print(len())"
   ]
  },
  {
   "cell_type": "code",
   "execution_count": 14,
   "id": "6e7598a9",
   "metadata": {},
   "outputs": [
    {
     "name": "stdout",
     "output_type": "stream",
     "text": [
      "['abul', 'ebul', 'babul', 'cabul', 'dabul']\n"
     ]
    }
   ],
   "source": [
    "#insert a new value\n",
    "\n",
    "name.insert(1, \"ebul\")\n",
    "print(name)"
   ]
  },
  {
   "cell_type": "code",
   "execution_count": 15,
   "id": "3105e981",
   "metadata": {},
   "outputs": [
    {
     "name": "stdout",
     "output_type": "stream",
     "text": [
      "[4444, 3333, 2222, 111]\n"
     ]
    }
   ],
   "source": [
    "#reverse a list\n",
    "\n",
    "contact.reverse()\n",
    "print(contact)"
   ]
  },
  {
   "cell_type": "code",
   "execution_count": 21,
   "id": "d8dd35ed",
   "metadata": {},
   "outputs": [
    {
     "name": "stdout",
     "output_type": "stream",
     "text": [
      "['a', 'b', 'c', 'd', 'c', 'd', 'e', 'f']\n"
     ]
    }
   ],
   "source": [
    "# Adding two list\n",
    "\n",
    "list1 = ['a', 'b', 'c', 'd']\n",
    "list2 = ['c', 'd', 'e', 'f']\n",
    "         \n",
    "list3 = list1 + list2\n",
    "print(list3)"
   ]
  },
  {
   "cell_type": "code",
   "execution_count": 22,
   "id": "a844fbf6",
   "metadata": {},
   "outputs": [
    {
     "name": "stdout",
     "output_type": "stream",
     "text": [
      "[-9, -3, -1, 0, 1, 2, 3, 4, 5, 7]\n"
     ]
    }
   ],
   "source": [
    "# How to sort a list\n",
    "\n",
    "list4 = [-1, -3, -9, 0, 1, 2, 3, 4, 5, 7]\n",
    "print(sorted(list4))"
   ]
  },
  {
   "cell_type": "markdown",
   "id": "5e8263db",
   "metadata": {},
   "source": [
    "Tuple Data Structure\n",
    "* The main difference between list and tuple is, Tuple is immutable\n",
    "  i.e Tuple can't be changed"
   ]
  },
  {
   "cell_type": "code",
   "execution_count": 23,
   "id": "db760d11",
   "metadata": {},
   "outputs": [
    {
     "name": "stdout",
     "output_type": "stream",
     "text": [
      "('a', 'b', 'c', 'd')\n",
      "<class 'tuple'>\n"
     ]
    }
   ],
   "source": [
    "name = ('a', 'b', 'c', 'd')\n",
    "print(name)\n",
    "print(type(name))"
   ]
  },
  {
   "cell_type": "code",
   "execution_count": 24,
   "id": "ec86570a",
   "metadata": {},
   "outputs": [
    {
     "name": "stdout",
     "output_type": "stream",
     "text": [
      "a\n"
     ]
    }
   ],
   "source": [
    "# Tuple slicing\n",
    "\n",
    "print(name[0])"
   ]
  },
  {
   "cell_type": "code",
   "execution_count": 25,
   "id": "45139774",
   "metadata": {},
   "outputs": [
    {
     "ename": "AttributeError",
     "evalue": "'tuple' object has no attribute 'insert'",
     "output_type": "error",
     "traceback": [
      "\u001b[0;31m---------------------------------------------------------------------------\u001b[0m",
      "\u001b[0;31mAttributeError\u001b[0m                            Traceback (most recent call last)",
      "\u001b[0;32m/tmp/ipykernel_7750/2685691718.py\u001b[0m in \u001b[0;36m<module>\u001b[0;34m\u001b[0m\n\u001b[0;32m----> 1\u001b[0;31m \u001b[0mname\u001b[0m\u001b[0;34m.\u001b[0m\u001b[0minsert\u001b[0m\u001b[0;34m(\u001b[0m\u001b[0;36m1\u001b[0m\u001b[0;34m,\u001b[0m \u001b[0;34m'r'\u001b[0m\u001b[0;34m)\u001b[0m\u001b[0;34m\u001b[0m\u001b[0;34m\u001b[0m\u001b[0m\n\u001b[0m",
      "\u001b[0;31mAttributeError\u001b[0m: 'tuple' object has no attribute 'insert'"
     ]
    }
   ],
   "source": [
    "name.insert(1, 'r')"
   ]
  },
  {
   "cell_type": "markdown",
   "id": "bfd68a36",
   "metadata": {},
   "source": [
    "Set Data Structure\n"
   ]
  },
  {
   "cell_type": "code",
   "execution_count": 27,
   "id": "3ac48f3f",
   "metadata": {},
   "outputs": [
    {
     "name": "stdout",
     "output_type": "stream",
     "text": [
      "{1, 2, 3, 4, 5, 6, 7, 8}\n",
      "{0, 3, 4, 5, 6, 9}\n",
      "<class 'set'>\n"
     ]
    }
   ],
   "source": [
    "set_A = {1,2,3,4,5,6,7,8}\n",
    "set_B = {3,4,5,5,6,0,9}\n",
    "print(set_A)\n",
    "print(set_B)\n",
    "print(type(set_A))"
   ]
  },
  {
   "cell_type": "code",
   "execution_count": 29,
   "id": "25334fff",
   "metadata": {},
   "outputs": [
    {
     "name": "stdout",
     "output_type": "stream",
     "text": [
      "{0, 1, 2, 3, 4, 5, 6, 7, 8, 9}\n",
      "{3, 4, 5, 6}\n",
      "{3, 4, 5, 6}\n",
      "{8, 1, 2, 7}\n",
      "{0, 9}\n"
     ]
    }
   ],
   "source": [
    "print(set_A.union(set_B))\n",
    "print(set_A.intersection(set_B))\n",
    "print(set_B.intersection(set_A))\n",
    "print(set_A.difference(set_B))\n",
    "print(set_B.difference(set_A))"
   ]
  },
  {
   "cell_type": "code",
   "execution_count": null,
   "id": "3739cac2",
   "metadata": {},
   "outputs": [],
   "source": []
  }
 ],
 "metadata": {
  "kernelspec": {
   "display_name": "Python 3 (ipykernel)",
   "language": "python",
   "name": "python3"
  },
  "language_info": {
   "codemirror_mode": {
    "name": "ipython",
    "version": 3
   },
   "file_extension": ".py",
   "mimetype": "text/x-python",
   "name": "python",
   "nbconvert_exporter": "python",
   "pygments_lexer": "ipython3",
   "version": "3.9.7"
  }
 },
 "nbformat": 4,
 "nbformat_minor": 5
}
